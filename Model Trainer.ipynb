{
 "cells": [
  {
   "cell_type": "code",
   "execution_count": 1,
   "metadata": {},
   "outputs": [],
   "source": [
    "import pandas as pd\n",
    "import numpy as np\n",
    "import matplotlib.pyplot as plt\n",
    "from statsmodels.tsa.statespace.sarimax import SARIMAX\n",
    "from statsmodels.graphics.tsaplots import plot_acf\n",
    "from statsmodels.graphics.tsaplots import plot_pacf\n",
    "from statsmodels.tsa.stattools import adfuller\n",
    "from sklearn.metrics import mean_squared_error\n",
    "from math import sqrt"
   ]
  },
  {
   "cell_type": "code",
   "execution_count": 2,
   "metadata": {},
   "outputs": [
    {
     "name": "stderr",
     "output_type": "stream",
     "text": [
      "C:\\ProgramData\\Anaconda3\\lib\\site-packages\\IPython\\core\\interactiveshell.py:3146: DtypeWarning: Columns (5,6) have mixed types.Specify dtype option on import or set low_memory=False.\n",
      "  has_raised = await self.run_ast_nodes(code_ast.body, cell_name,\n"
     ]
    },
    {
     "data": {
      "text/html": [
       "<div>\n",
       "<style scoped>\n",
       "    .dataframe tbody tr th:only-of-type {\n",
       "        vertical-align: middle;\n",
       "    }\n",
       "\n",
       "    .dataframe tbody tr th {\n",
       "        vertical-align: top;\n",
       "    }\n",
       "\n",
       "    .dataframe thead th {\n",
       "        text-align: right;\n",
       "    }\n",
       "</style>\n",
       "<table border=\"1\" class=\"dataframe\">\n",
       "  <thead>\n",
       "    <tr style=\"text-align: right;\">\n",
       "      <th></th>\n",
       "      <th>Unnamed: 0</th>\n",
       "      <th>_id</th>\n",
       "      <th>username</th>\n",
       "      <th>pm2_5Data</th>\n",
       "      <th>pm10Data</th>\n",
       "      <th>tempData</th>\n",
       "      <th>humidityData</th>\n",
       "      <th>__v</th>\n",
       "    </tr>\n",
       "    <tr>\n",
       "      <th>dateTimeData</th>\n",
       "      <th></th>\n",
       "      <th></th>\n",
       "      <th></th>\n",
       "      <th></th>\n",
       "      <th></th>\n",
       "      <th></th>\n",
       "      <th></th>\n",
       "      <th></th>\n",
       "    </tr>\n",
       "  </thead>\n",
       "  <tbody>\n",
       "    <tr>\n",
       "      <th>2021-04-20 04:22:00</th>\n",
       "      <td>0</td>\n",
       "      <td>60920d3f26208d1e35bfb3b7</td>\n",
       "      <td>bobDaGOAT</td>\n",
       "      <td>10.5</td>\n",
       "      <td>13.0</td>\n",
       "      <td>79</td>\n",
       "      <td>a lot</td>\n",
       "      <td>0</td>\n",
       "    </tr>\n",
       "    <tr>\n",
       "      <th>2021-04-22 04:20:00</th>\n",
       "      <td>1</td>\n",
       "      <td>60921081ef80c300159b10de</td>\n",
       "      <td>bobDaGOAT</td>\n",
       "      <td>10.5</td>\n",
       "      <td>13.0</td>\n",
       "      <td>79</td>\n",
       "      <td>a lot</td>\n",
       "      <td>0</td>\n",
       "    </tr>\n",
       "    <tr>\n",
       "      <th>2021-04-22 04:20:00</th>\n",
       "      <td>2</td>\n",
       "      <td>60921085ef80c300159b10df</td>\n",
       "      <td>bobDaGOAT</td>\n",
       "      <td>10.5</td>\n",
       "      <td>13.0</td>\n",
       "      <td>79</td>\n",
       "      <td>a lot</td>\n",
       "      <td>0</td>\n",
       "    </tr>\n",
       "    <tr>\n",
       "      <th>2021-04-20 04:02:00</th>\n",
       "      <td>3</td>\n",
       "      <td>60921f3240dd68001540fdc8</td>\n",
       "      <td>raspberryPi</td>\n",
       "      <td>2.5</td>\n",
       "      <td>10.0</td>\n",
       "      <td>83</td>\n",
       "      <td>50</td>\n",
       "      <td>0</td>\n",
       "    </tr>\n",
       "    <tr>\n",
       "      <th>2021-04-20 04:02:00</th>\n",
       "      <td>4</td>\n",
       "      <td>6092210c40dd68001540fdc9</td>\n",
       "      <td>raspberryPi</td>\n",
       "      <td>2.5</td>\n",
       "      <td>10.0</td>\n",
       "      <td>83</td>\n",
       "      <td>50</td>\n",
       "      <td>0</td>\n",
       "    </tr>\n",
       "  </tbody>\n",
       "</table>\n",
       "</div>"
      ],
      "text/plain": [
       "                     Unnamed: 0                       _id     username  \\\n",
       "dateTimeData                                                             \n",
       "2021-04-20 04:22:00           0  60920d3f26208d1e35bfb3b7    bobDaGOAT   \n",
       "2021-04-22 04:20:00           1  60921081ef80c300159b10de    bobDaGOAT   \n",
       "2021-04-22 04:20:00           2  60921085ef80c300159b10df    bobDaGOAT   \n",
       "2021-04-20 04:02:00           3  60921f3240dd68001540fdc8  raspberryPi   \n",
       "2021-04-20 04:02:00           4  6092210c40dd68001540fdc9  raspberryPi   \n",
       "\n",
       "                     pm2_5Data  pm10Data tempData humidityData  __v  \n",
       "dateTimeData                                                         \n",
       "2021-04-20 04:22:00       10.5      13.0       79        a lot    0  \n",
       "2021-04-22 04:20:00       10.5      13.0       79        a lot    0  \n",
       "2021-04-22 04:20:00       10.5      13.0       79        a lot    0  \n",
       "2021-04-20 04:02:00        2.5      10.0       83           50    0  \n",
       "2021-04-20 04:02:00        2.5      10.0       83           50    0  "
      ]
     },
     "execution_count": 2,
     "metadata": {},
     "output_type": "execute_result"
    }
   ],
   "source": [
    "data = pd.read_csv('./ModelServices/train.csv', parse_dates=['dateTimeData'], index_col = ['dateTimeData'])\n",
    "data.head()\n",
    "# data.describe"
   ]
  },
  {
   "cell_type": "code",
   "execution_count": 3,
   "metadata": {},
   "outputs": [
    {
     "name": "stdout",
     "output_type": "stream",
     "text": [
      "username\n",
      "bob                 3\n",
      "bobDaGOAT           3\n",
      "killah-bee     144745\n",
      "raspberryPi         3\n",
      "sshekhar93      40406\n",
      "varun           38262\n",
      "yash                6\n",
      "ysahani          3738\n",
      "dtype: int64\n"
     ]
    }
   ],
   "source": [
    "print(data.groupby('username').size())"
   ]
  },
  {
   "cell_type": "code",
   "execution_count": 4,
   "metadata": {},
   "outputs": [
    {
     "data": {
      "text/html": [
       "<div>\n",
       "<style scoped>\n",
       "    .dataframe tbody tr th:only-of-type {\n",
       "        vertical-align: middle;\n",
       "    }\n",
       "\n",
       "    .dataframe tbody tr th {\n",
       "        vertical-align: top;\n",
       "    }\n",
       "\n",
       "    .dataframe thead th {\n",
       "        text-align: right;\n",
       "    }\n",
       "</style>\n",
       "<table border=\"1\" class=\"dataframe\">\n",
       "  <thead>\n",
       "    <tr style=\"text-align: right;\">\n",
       "      <th></th>\n",
       "      <th>Unnamed: 0</th>\n",
       "      <th>_id</th>\n",
       "      <th>username</th>\n",
       "      <th>pm2_5Data</th>\n",
       "      <th>pm10Data</th>\n",
       "      <th>tempData</th>\n",
       "      <th>humidityData</th>\n",
       "      <th>__v</th>\n",
       "    </tr>\n",
       "    <tr>\n",
       "      <th>dateTimeData</th>\n",
       "      <th></th>\n",
       "      <th></th>\n",
       "      <th></th>\n",
       "      <th></th>\n",
       "      <th></th>\n",
       "      <th></th>\n",
       "      <th></th>\n",
       "      <th></th>\n",
       "    </tr>\n",
       "  </thead>\n",
       "  <tbody>\n",
       "    <tr>\n",
       "      <th>2021-05-07 15:41:55.397079</th>\n",
       "      <td>7800</td>\n",
       "      <td>6095c2332269680015f56519</td>\n",
       "      <td>sshekhar93</td>\n",
       "      <td>14.6</td>\n",
       "      <td>18.6</td>\n",
       "      <td>invalid</td>\n",
       "      <td>invalid</td>\n",
       "      <td>0</td>\n",
       "    </tr>\n",
       "    <tr>\n",
       "      <th>2021-05-07 15:43:54.637886</th>\n",
       "      <td>7811</td>\n",
       "      <td>6095c2ab2269680015f56524</td>\n",
       "      <td>sshekhar93</td>\n",
       "      <td>16.4</td>\n",
       "      <td>20.6</td>\n",
       "      <td>invalid</td>\n",
       "      <td>invalid</td>\n",
       "      <td>0</td>\n",
       "    </tr>\n",
       "    <tr>\n",
       "      <th>2021-05-07 15:44:25.311669</th>\n",
       "      <td>7815</td>\n",
       "      <td>6095c2c92269680015f56528</td>\n",
       "      <td>sshekhar93</td>\n",
       "      <td>15.7</td>\n",
       "      <td>19.5</td>\n",
       "      <td>invalid</td>\n",
       "      <td>invalid</td>\n",
       "      <td>0</td>\n",
       "    </tr>\n",
       "    <tr>\n",
       "      <th>2021-05-07 15:44:56.052281</th>\n",
       "      <td>7819</td>\n",
       "      <td>6095c2e82269680015f5652c</td>\n",
       "      <td>sshekhar93</td>\n",
       "      <td>15.1</td>\n",
       "      <td>18.7</td>\n",
       "      <td>invalid</td>\n",
       "      <td>invalid</td>\n",
       "      <td>0</td>\n",
       "    </tr>\n",
       "    <tr>\n",
       "      <th>2021-05-07 15:45:26.699848</th>\n",
       "      <td>7823</td>\n",
       "      <td>6095c3072269680015f56530</td>\n",
       "      <td>sshekhar93</td>\n",
       "      <td>14.3</td>\n",
       "      <td>18.5</td>\n",
       "      <td>invalid</td>\n",
       "      <td>invalid</td>\n",
       "      <td>0</td>\n",
       "    </tr>\n",
       "    <tr>\n",
       "      <th>...</th>\n",
       "      <td>...</td>\n",
       "      <td>...</td>\n",
       "      <td>...</td>\n",
       "      <td>...</td>\n",
       "      <td>...</td>\n",
       "      <td>...</td>\n",
       "      <td>...</td>\n",
       "      <td>...</td>\n",
       "    </tr>\n",
       "    <tr>\n",
       "      <th>2021-07-21 08:50:03.203506</th>\n",
       "      <td>192656</td>\n",
       "      <td>60f8422b469fdc0015ca24b5</td>\n",
       "      <td>sshekhar93</td>\n",
       "      <td>27.6</td>\n",
       "      <td>34.4</td>\n",
       "      <td>71.42</td>\n",
       "      <td>47.5</td>\n",
       "      <td>0</td>\n",
       "    </tr>\n",
       "    <tr>\n",
       "      <th>2021-07-21 08:50:34.456402</th>\n",
       "      <td>192659</td>\n",
       "      <td>60f8424a469fdc0015ca24b8</td>\n",
       "      <td>sshekhar93</td>\n",
       "      <td>28.7</td>\n",
       "      <td>35.2</td>\n",
       "      <td>71.24000000000001</td>\n",
       "      <td>47</td>\n",
       "      <td>0</td>\n",
       "    </tr>\n",
       "    <tr>\n",
       "      <th>2021-07-21 08:51:06.316770</th>\n",
       "      <td>192662</td>\n",
       "      <td>60f8426a469fdc0015ca24bb</td>\n",
       "      <td>sshekhar93</td>\n",
       "      <td>29.7</td>\n",
       "      <td>36.5</td>\n",
       "      <td>71.24000000000001</td>\n",
       "      <td>49.7</td>\n",
       "      <td>0</td>\n",
       "    </tr>\n",
       "    <tr>\n",
       "      <th>2021-07-21 08:51:38.155065</th>\n",
       "      <td>192665</td>\n",
       "      <td>60f8428a469fdc0015ca24be</td>\n",
       "      <td>sshekhar93</td>\n",
       "      <td>31.9</td>\n",
       "      <td>39.0</td>\n",
       "      <td>71.24000000000001</td>\n",
       "      <td>50.5</td>\n",
       "      <td>0</td>\n",
       "    </tr>\n",
       "    <tr>\n",
       "      <th>2021-07-21 08:52:09.655596</th>\n",
       "      <td>192668</td>\n",
       "      <td>60f842aa469fdc0015ca24c1</td>\n",
       "      <td>sshekhar93</td>\n",
       "      <td>32.5</td>\n",
       "      <td>39.3</td>\n",
       "      <td>71.24000000000001</td>\n",
       "      <td>49.1</td>\n",
       "      <td>0</td>\n",
       "    </tr>\n",
       "  </tbody>\n",
       "</table>\n",
       "<p>40401 rows × 8 columns</p>\n",
       "</div>"
      ],
      "text/plain": [
       "                            Unnamed: 0                       _id    username  \\\n",
       "dateTimeData                                                                   \n",
       "2021-05-07 15:41:55.397079        7800  6095c2332269680015f56519  sshekhar93   \n",
       "2021-05-07 15:43:54.637886        7811  6095c2ab2269680015f56524  sshekhar93   \n",
       "2021-05-07 15:44:25.311669        7815  6095c2c92269680015f56528  sshekhar93   \n",
       "2021-05-07 15:44:56.052281        7819  6095c2e82269680015f5652c  sshekhar93   \n",
       "2021-05-07 15:45:26.699848        7823  6095c3072269680015f56530  sshekhar93   \n",
       "...                                ...                       ...         ...   \n",
       "2021-07-21 08:50:03.203506      192656  60f8422b469fdc0015ca24b5  sshekhar93   \n",
       "2021-07-21 08:50:34.456402      192659  60f8424a469fdc0015ca24b8  sshekhar93   \n",
       "2021-07-21 08:51:06.316770      192662  60f8426a469fdc0015ca24bb  sshekhar93   \n",
       "2021-07-21 08:51:38.155065      192665  60f8428a469fdc0015ca24be  sshekhar93   \n",
       "2021-07-21 08:52:09.655596      192668  60f842aa469fdc0015ca24c1  sshekhar93   \n",
       "\n",
       "                            pm2_5Data  pm10Data           tempData  \\\n",
       "dateTimeData                                                         \n",
       "2021-05-07 15:41:55.397079       14.6      18.6            invalid   \n",
       "2021-05-07 15:43:54.637886       16.4      20.6            invalid   \n",
       "2021-05-07 15:44:25.311669       15.7      19.5            invalid   \n",
       "2021-05-07 15:44:56.052281       15.1      18.7            invalid   \n",
       "2021-05-07 15:45:26.699848       14.3      18.5            invalid   \n",
       "...                               ...       ...                ...   \n",
       "2021-07-21 08:50:03.203506       27.6      34.4              71.42   \n",
       "2021-07-21 08:50:34.456402       28.7      35.2  71.24000000000001   \n",
       "2021-07-21 08:51:06.316770       29.7      36.5  71.24000000000001   \n",
       "2021-07-21 08:51:38.155065       31.9      39.0  71.24000000000001   \n",
       "2021-07-21 08:52:09.655596       32.5      39.3  71.24000000000001   \n",
       "\n",
       "                           humidityData  __v  \n",
       "dateTimeData                                  \n",
       "2021-05-07 15:41:55.397079      invalid    0  \n",
       "2021-05-07 15:43:54.637886      invalid    0  \n",
       "2021-05-07 15:44:25.311669      invalid    0  \n",
       "2021-05-07 15:44:56.052281      invalid    0  \n",
       "2021-05-07 15:45:26.699848      invalid    0  \n",
       "...                                 ...  ...  \n",
       "2021-07-21 08:50:03.203506         47.5    0  \n",
       "2021-07-21 08:50:34.456402           47    0  \n",
       "2021-07-21 08:51:06.316770         49.7    0  \n",
       "2021-07-21 08:51:38.155065         50.5    0  \n",
       "2021-07-21 08:52:09.655596         49.1    0  \n",
       "\n",
       "[40401 rows x 8 columns]"
      ]
     },
     "execution_count": 4,
     "metadata": {},
     "output_type": "execute_result"
    }
   ],
   "source": [
    "userData = data.loc[data['username'] == 'sshekhar93']\n",
    "userData.head(-5)"
   ]
  },
  {
   "cell_type": "code",
   "execution_count": 5,
   "metadata": {},
   "outputs": [
    {
     "data": {
      "text/plain": [
       "<bound method NDFrame.describe of                             pm2_5Data\n",
       "dateTimeData                         \n",
       "2021-05-07 15:41:55.397079       14.6\n",
       "2021-05-07 15:43:54.637886       16.4\n",
       "2021-05-07 15:44:25.311669       15.7\n",
       "2021-05-07 15:44:56.052281       15.1\n",
       "2021-05-07 15:45:26.699848       14.3\n",
       "...                               ...\n",
       "2021-07-21 08:52:41.485172       32.7\n",
       "2021-07-21 08:53:13.652483       31.9\n",
       "2021-07-21 08:53:44.555029       32.4\n",
       "2021-07-21 08:54:17.049263       33.4\n",
       "2021-07-21 08:54:47.920632       33.0\n",
       "\n",
       "[40406 rows x 1 columns]>"
      ]
     },
     "execution_count": 5,
     "metadata": {},
     "output_type": "execute_result"
    }
   ],
   "source": [
    "pm25Data = userData[['pm2_5Data']]\n",
    "pm25Data.describe"
   ]
  },
  {
   "cell_type": "code",
   "execution_count": 6,
   "metadata": {},
   "outputs": [
    {
     "data": {
      "text/plain": [
       "<bound method NDFrame.describe of                             pm10Data\n",
       "dateTimeData                        \n",
       "2021-05-07 15:41:55.397079      18.6\n",
       "2021-05-07 15:43:54.637886      20.6\n",
       "2021-05-07 15:44:25.311669      19.5\n",
       "2021-05-07 15:44:56.052281      18.7\n",
       "2021-05-07 15:45:26.699848      18.5\n",
       "...                              ...\n",
       "2021-07-21 08:52:41.485172      39.6\n",
       "2021-07-21 08:53:13.652483      39.4\n",
       "2021-07-21 08:53:44.555029      39.8\n",
       "2021-07-21 08:54:17.049263      41.1\n",
       "2021-07-21 08:54:47.920632      39.5\n",
       "\n",
       "[40406 rows x 1 columns]>"
      ]
     },
     "execution_count": 6,
     "metadata": {},
     "output_type": "execute_result"
    }
   ],
   "source": [
    "pm10Data = userData[['pm10Data']]\n",
    "pm10Data.describe"
   ]
  },
  {
   "cell_type": "code",
   "execution_count": 7,
   "metadata": {},
   "outputs": [
    {
     "data": {
      "text/plain": [
       "True"
      ]
     },
     "execution_count": 7,
     "metadata": {},
     "output_type": "execute_result"
    }
   ],
   "source": [
    "pm25Data.index.is_all_dates"
   ]
  },
  {
   "cell_type": "code",
   "execution_count": 8,
   "metadata": {},
   "outputs": [
    {
     "data": {
      "text/plain": [
       "True"
      ]
     },
     "execution_count": 8,
     "metadata": {},
     "output_type": "execute_result"
    }
   ],
   "source": [
    "pm10Data.index.is_all_dates"
   ]
  },
  {
   "cell_type": "code",
   "execution_count": 9,
   "metadata": {},
   "outputs": [
    {
     "name": "stdout",
     "output_type": "stream",
     "text": [
      "40406\n",
      "17563\n",
      "17563\n",
      "                     pm2_5Data\n",
      "2021-05-07 15:41:55       14.6\n",
      "2021-05-07 15:42:25       16.4\n",
      "2021-05-07 15:42:55       15.7\n",
      "2021-05-07 15:43:25       15.1\n",
      "2021-05-07 15:43:55       14.3\n",
      "                     pm10Data\n",
      "2021-05-07 15:41:55      18.6\n",
      "2021-05-07 15:42:25      20.6\n",
      "2021-05-07 15:42:55      19.5\n",
      "2021-05-07 15:43:25      18.7\n",
      "2021-05-07 15:43:55      18.5\n"
     ]
    }
   ],
   "source": [
    "print(pm25Data.size)\n",
    "temp25 = pd.DataFrame(pm25Data.loc[:\"2021-05-13 21:41:37.798222\"])\n",
    "print(temp25.size)\n",
    "\n",
    "temp10 = pd.DataFrame(pm10Data.loc[:\"2021-05-13 21:41:37.798222\"])\n",
    "print(temp10.size)\n",
    "\n",
    "start = pd.to_datetime(\"2021-05-07 15:41:55\")\n",
    "index = pd.date_range(start, periods = temp25.size, freq = \"30S\")\n",
    "\n",
    "pm25DataRef = pd.DataFrame(temp25['pm2_5Data'].tolist(), index = index, columns = ['pm2_5Data'])\n",
    "print(pm25DataRef.head())\n",
    "\n",
    "\n",
    "pm10DataRef = pd.DataFrame(temp10['pm10Data'].tolist(), index = index, columns = ['pm10Data'])\n",
    "print(pm10DataRef.head())\n"
   ]
  },
  {
   "cell_type": "code",
   "execution_count": 10,
   "metadata": {},
   "outputs": [
    {
     "name": "stdout",
     "output_type": "stream",
     "text": [
      "ADF Statistic: -9.873868617598939\n",
      "p-value: 3.92935112699018e-17\n",
      "ADF Statistic: -9.594234813223874\n",
      "p-value: 1.998136255397215e-16\n"
     ]
    }
   ],
   "source": [
    "from statsmodels.tsa.stattools import adfuller\n",
    "\n",
    "result25 = adfuller(pm25DataRef.pm2_5Data.dropna())\n",
    "print(f\"ADF Statistic: {result25[0]}\")\n",
    "print(f\"p-value: {result25[1]}\")\n",
    "\n",
    "result10 = adfuller(pm10DataRef.pm10Data.dropna())\n",
    "print(f\"ADF Statistic: {result10[0]}\")\n",
    "print(f\"p-value: {result10[1]}\")"
   ]
  },
  {
   "cell_type": "code",
   "execution_count": 11,
   "metadata": {},
   "outputs": [
    {
     "name": "stderr",
     "output_type": "stream",
     "text": [
      "C:\\ProgramData\\Anaconda3\\lib\\site-packages\\statsmodels\\base\\model.py:566: ConvergenceWarning: Maximum Likelihood optimization failed to converge. Check mle_retvals\n",
      "  warnings.warn(\"Maximum Likelihood optimization failed to \"\n",
      "C:\\ProgramData\\Anaconda3\\lib\\site-packages\\statsmodels\\base\\model.py:566: ConvergenceWarning: Maximum Likelihood optimization failed to converge. Check mle_retvals\n",
      "  warnings.warn(\"Maximum Likelihood optimization failed to \"\n"
     ]
    }
   ],
   "source": [
    "from statsmodels.tsa.arima.model import ARIMA\n",
    "\n",
    "# ARIMA Model\n",
    "model25 = ARIMA(pm25DataRef.pm2_5Data, order=(5, 0, 3))\n",
    "result25 = model25.fit()\n",
    "\n",
    "model10 = ARIMA(pm10DataRef.pm10Data, order=(10, 0, 3))\n",
    "result10 = model10.fit()"
   ]
  },
  {
   "cell_type": "code",
   "execution_count": 12,
   "metadata": {},
   "outputs": [
    {
     "name": "stdout",
     "output_type": "stream",
     "text": [
      "                               SARIMAX Results                                \n",
      "==============================================================================\n",
      "Dep. Variable:              pm2_5Data   No. Observations:                17563\n",
      "Model:                 ARIMA(5, 0, 3)   Log Likelihood              -62952.015\n",
      "Date:                Fri, 30 Jul 2021   AIC                         125924.030\n",
      "Time:                        14:59:41   BIC                         126001.765\n",
      "Sample:                    05-07-2021   HQIC                        125949.624\n",
      "                         - 05-13-2021                                         \n",
      "Covariance Type:                  opg                                         \n",
      "==============================================================================\n",
      "                 coef    std err          z      P>|z|      [0.025      0.975]\n",
      "------------------------------------------------------------------------------\n",
      "const         18.9733      7.594      2.498      0.012       4.089      33.858\n",
      "ar.L1          1.1978      0.029     40.904      0.000       1.140       1.255\n",
      "ar.L2         -0.3881      0.054     -7.240      0.000      -0.493      -0.283\n",
      "ar.L3         -0.3830      0.051     -7.504      0.000      -0.483      -0.283\n",
      "ar.L4          0.4773      0.025     18.930      0.000       0.428       0.527\n",
      "ar.L5          0.0624      0.002     31.788      0.000       0.059       0.066\n",
      "ma.L1         -0.2776      0.029     -9.497      0.000      -0.335      -0.220\n",
      "ma.L2          0.2255      0.027      8.260      0.000       0.172       0.279\n",
      "ma.L3          0.5884      0.029     20.340      0.000       0.532       0.645\n",
      "sigma2        76.5243      0.043   1783.749      0.000      76.440      76.608\n",
      "===================================================================================\n",
      "Ljung-Box (L1) (Q):                   0.03   Jarque-Bera (JB):        4239068345.04\n",
      "Prob(Q):                              0.87   Prob(JB):                         0.00\n",
      "Heteroskedasticity (H):               0.20   Skew:                            34.93\n",
      "Prob(H) (two-sided):                  0.00   Kurtosis:                      2408.79\n",
      "===================================================================================\n",
      "\n",
      "Warnings:\n",
      "[1] Covariance matrix calculated using the outer product of gradients (complex-step).\n",
      "                               SARIMAX Results                                \n",
      "==============================================================================\n",
      "Dep. Variable:               pm10Data   No. Observations:                17563\n",
      "Model:                ARIMA(10, 0, 3)   Log Likelihood              -67926.518\n",
      "Date:                Fri, 30 Jul 2021   AIC                         135883.035\n",
      "Time:                        14:59:42   BIC                         135999.639\n",
      "Sample:                    05-07-2021   HQIC                        135921.426\n",
      "                         - 05-13-2021                                         \n",
      "Covariance Type:                  opg                                         \n",
      "==============================================================================\n",
      "                 coef    std err          z      P>|z|      [0.025      0.975]\n",
      "------------------------------------------------------------------------------\n",
      "const         29.3273     13.679      2.144      0.032       2.517      56.138\n",
      "ar.L1          0.1992      0.061      3.244      0.001       0.079       0.320\n",
      "ar.L2          1.1614      0.030     38.907      0.000       1.103       1.220\n",
      "ar.L3          0.1230      0.054      2.281      0.023       0.017       0.229\n",
      "ar.L4         -0.4809      0.032    -15.225      0.000      -0.543      -0.419\n",
      "ar.L5         -0.1147      0.007    -17.025      0.000      -0.128      -0.101\n",
      "ar.L6          0.0108      0.006      1.867      0.062      -0.001       0.022\n",
      "ar.L7          0.0922      0.004     23.809      0.000       0.085       0.100\n",
      "ar.L8          0.0952      0.005     19.061      0.000       0.085       0.105\n",
      "ar.L9         -0.0884      0.006    -13.688      0.000      -0.101      -0.076\n",
      "ar.L10        -0.0124      0.006     -2.217      0.027      -0.023      -0.001\n",
      "ma.L1          0.7049      0.061     11.464      0.000       0.584       0.825\n",
      "ma.L2         -0.3823      0.055     -6.893      0.000      -0.491      -0.274\n",
      "ma.L3         -0.3886      0.030    -12.830      0.000      -0.448      -0.329\n",
      "sigma2       134.0466      0.083   1614.920      0.000     133.884     134.209\n",
      "===================================================================================\n",
      "Ljung-Box (L1) (Q):                   0.03   Jarque-Bera (JB):        3147359531.16\n",
      "Prob(Q):                              0.87   Prob(JB):                         0.00\n",
      "Heteroskedasticity (H):               0.18   Skew:                            31.30\n",
      "Prob(H) (two-sided):                  0.00   Kurtosis:                      2075.91\n",
      "===================================================================================\n",
      "\n",
      "Warnings:\n",
      "[1] Covariance matrix calculated using the outer product of gradients (complex-step).\n"
     ]
    }
   ],
   "source": [
    "print(result25.summary())\n",
    "\n",
    "print(result10.summary())"
   ]
  },
  {
   "cell_type": "code",
   "execution_count": 14,
   "metadata": {},
   "outputs": [],
   "source": [
    "n = int(len(pm25DataRef) * 0.8)\n",
    "train25 = pm25DataRef.pm2_5Data[:n]\n",
    "test25 = pm25DataRef.pm2_5Data[n:]\n",
    "\n",
    "train10 = pm10DataRef.pm10Data[:n]\n",
    "test10 = pm10DataRef.pm10Data[n:]"
   ]
  },
  {
   "cell_type": "code",
   "execution_count": 15,
   "metadata": {},
   "outputs": [
    {
     "name": "stdout",
     "output_type": "stream",
     "text": [
      "14050\n",
      "3513\n",
      "14050\n",
      "3513\n"
     ]
    }
   ],
   "source": [
    "print(len(train25))\n",
    "print(len(test25))\n",
    "\n",
    "print(len(train10))\n",
    "print(len(test10))"
   ]
  },
  {
   "cell_type": "code",
   "execution_count": 16,
   "metadata": {},
   "outputs": [
    {
     "name": "stderr",
     "output_type": "stream",
     "text": [
      "C:\\ProgramData\\Anaconda3\\lib\\site-packages\\statsmodels\\base\\model.py:566: ConvergenceWarning: Maximum Likelihood optimization failed to converge. Check mle_retvals\n",
      "  warnings.warn(\"Maximum Likelihood optimization failed to \"\n",
      "C:\\ProgramData\\Anaconda3\\lib\\site-packages\\statsmodels\\base\\model.py:566: ConvergenceWarning: Maximum Likelihood optimization failed to converge. Check mle_retvals\n",
      "  warnings.warn(\"Maximum Likelihood optimization failed to \"\n"
     ]
    }
   ],
   "source": [
    "model25 = ARIMA(train25, order=(5, 0, 3))\n",
    "result25 = model25.fit()\n",
    "\n",
    "model10 = ARIMA(train10, order=(10, 0, 3))\n",
    "result10 = model10.fit()\n"
   ]
  },
  {
   "cell_type": "code",
   "execution_count": 17,
   "metadata": {},
   "outputs": [],
   "source": [
    "#Forecoast\n",
    "step = test25.size\n",
    "\n",
    "fc25 = result25.forecast(step)\n",
    "\n",
    "fc10 = result10.forecast(step)"
   ]
  },
  {
   "cell_type": "code",
   "execution_count": 18,
   "metadata": {},
   "outputs": [],
   "source": [
    "fc25 = pd.Series(fc25, index=test25[:step].index)\n",
    "# lower25 = pd.Series(conf25[:, 0], index=test25[:step].index)\n",
    "# upper25 = pd.Series(conf25[:, 1], index=test25[:step].index)\n",
    "\n",
    "fc10 = pd.Series(fc10, index=test10[:step].index)\n",
    "# lower10 = pd.Series(conf10[:, 0], index=test10[:step].index)\n",
    "# upper10 = pd.Series(conf10[:, 1], index=test10[:step].index)"
   ]
  },
  {
   "cell_type": "code",
   "execution_count": 19,
   "metadata": {},
   "outputs": [
    {
     "data": {
      "text/plain": [
       "<matplotlib.legend.Legend at 0x20b38d1be50>"
      ]
     },
     "execution_count": 19,
     "metadata": {},
     "output_type": "execute_result"
    },
    {
     "data": {
      "image/png": "[encoded data removed]",
      "text/plain": [
       "<Figure size 1152x576 with 1 Axes>"
      ]
     },
     "metadata": {
      "needs_background": "light"
     },
     "output_type": "display_data"
    },
    {
     "data": {
      "image/png": "[encoded data removed]",
      "text/plain": [
       "<Figure size 1152x576 with 1 Axes>"
      ]
     },
     "metadata": {
      "needs_background": "light"
     },
     "output_type": "display_data"
    }
   ],
   "source": [
    "plt.figure(figsize=(16, 8))\n",
    "plt.plot(test25[:step], label=\"actual25\")\n",
    "plt.plot(fc25, label=\"forecast25\")\n",
    "# plt.fill_between(lower25.index, lower25, upper25, color=\"k\", alpha=0.1)\n",
    "plt.title(\"Forecast vs Actual PM 2.5\")\n",
    "plt.legend(loc=\"upper left\")\n",
    "\n",
    "\n",
    "plt.figure(figsize=(16, 8))\n",
    "plt.plot(test10[:step], label=\"actual10\")\n",
    "plt.plot(fc10, label=\"forecast10\")\n",
    "# plt.fill_between(lower10.index, lower10, upper10, color=\"k\", alpha=0.1)\n",
    "plt.title(\"Forecast vs Actual PM 10\")\n",
    "plt.legend(loc=\"upper left\")"
   ]
  },
  {
   "cell_type": "code",
   "execution_count": 63,
   "metadata": {},
   "outputs": [
    {
     "data": {
      "text/plain": [
       "2021-05-12 12:46:55    17.944702\n",
       "2021-05-12 12:47:25    17.939720\n",
       "2021-05-12 12:47:55    17.964047\n",
       "2021-05-12 12:48:25    18.018647\n",
       "2021-05-12 12:48:55    18.060144\n",
       "                         ...    \n",
       "2021-05-13 18:00:55    18.011588\n",
       "2021-05-13 18:01:25    18.011588\n",
       "2021-05-13 18:01:55    18.011588\n",
       "2021-05-13 18:02:25    18.011588\n",
       "2021-05-13 18:02:55    18.011588\n",
       "Freq: 30S, Name: predicted_mean, Length: 3513, dtype: float64"
      ]
     },
     "execution_count": 63,
     "metadata": {},
     "output_type": "execute_result"
    }
   ],
   "source": [
    "fc25"
   ]
  },
  {
   "cell_type": "code",
   "execution_count": 22,
   "metadata": {},
   "outputs": [],
   "source": [
    "import pickle"
   ]
  },
  {
   "cell_type": "code",
   "execution_count": 23,
   "metadata": {},
   "outputs": [],
   "source": [
    "pickle.dump(result25,open('./ModelServices/result25.pkl','wb'))\n",
    "pickle.dump(result10,open('./ModelServices/result10.pkl','wb'))"
   ]
  },
  {
   "cell_type": "code",
   "execution_count": 24,
   "metadata": {},
   "outputs": [
    {
     "name": "stderr",
     "output_type": "stream",
     "text": [
      "<ipython-input-24-68c7f44b71d2>:1: FutureWarning: The pandas.datetime class is deprecated and will be removed from pandas in a future version. Import from datetime module instead.\n",
      "  start_index = pd.Timestamp(pd.datetime.now().strftime(\"%Y-%m-%d %X\"))\n"
     ]
    },
    {
     "name": "stdout",
     "output_type": "stream",
     "text": [
      "2021-07-30 15:16:55    20.270442\n",
      "2021-07-30 15:17:25    20.270442\n",
      "2021-07-30 15:17:55    20.270442\n",
      "2021-07-30 15:18:25    20.270442\n",
      "2021-07-30 15:18:55    20.270442\n",
      "                         ...    \n",
      "2021-07-30 16:14:55    20.270442\n",
      "2021-07-30 16:15:25    20.270442\n",
      "2021-07-30 16:15:55    20.270442\n",
      "2021-07-30 16:16:25    20.270442\n",
      "2021-07-30 16:16:55    20.270442\n",
      "Freq: 30S, Name: predicted_mean, Length: 121, dtype: float64\n"
     ]
    }
   ],
   "source": [
    "start_index = pd.Timestamp(pd.datetime.now().strftime(\"%Y-%m-%d %X\"))\n",
    "end_index = start_index + pd.Timedelta(hours=1)\n",
    "forecastdirect = result25.predict(start=start_index, end= end_index)\n",
    "\n"
   ]
  },
  {
   "cell_type": "code",
   "execution_count": 25,
   "metadata": {},
   "outputs": [
    {
     "name": "stdout",
     "output_type": "stream",
     "text": [
      "2021-07-31 19:46:55    20.270442\n",
      "2021-07-31 19:47:25    20.270442\n",
      "2021-07-31 19:47:55    20.270442\n",
      "2021-07-31 19:48:25    20.270442\n",
      "2021-07-31 19:48:55    20.270442\n",
      "                         ...    \n",
      "2021-07-31 20:44:55    20.270442\n",
      "2021-07-31 20:45:25    20.270442\n",
      "2021-07-31 20:45:55    20.270442\n",
      "2021-07-31 20:46:25    20.270442\n",
      "2021-07-31 20:46:55    20.270442\n",
      "Freq: 30S, Name: predicted_mean, Length: 121, dtype: float64\n"
     ]
    }
   ],
   "source": [
    "print(forecastdirect)"
   ]
  },
  {
   "cell_type": "code",
   "execution_count": 27,
   "metadata": {},
   "outputs": [
    {
     "name": "stderr",
     "output_type": "stream",
     "text": [
      "<ipython-input-27-1dea28022afc>:2: FutureWarning: The pandas.datetime class is deprecated and will be removed from pandas in a future version. Import from datetime module instead.\n",
      "  start_index = pd.Timestamp(pd.datetime.now().strftime(\"%Y-%m-%d %X\"))\n"
     ]
    },
    {
     "name": "stdout",
     "output_type": "stream",
     "text": [
      "2021-07-31 19:50:55    20.270442\n",
      "2021-07-31 19:51:25    20.270442\n",
      "2021-07-31 19:51:55    20.270442\n",
      "2021-07-31 19:52:25    20.270442\n",
      "2021-07-31 19:52:55    20.270442\n",
      "                         ...    \n",
      "2021-07-31 20:48:55    20.270442\n",
      "2021-07-31 20:49:25    20.270442\n",
      "2021-07-31 20:49:55    20.270442\n",
      "2021-07-31 20:50:25    20.270442\n",
      "2021-07-31 20:50:55    20.270442\n",
      "Freq: 30S, Name: predicted_mean, Length: 121, dtype: float64\n"
     ]
    }
   ],
   "source": [
    "loadedResult25 = pickle.load(open('./ModelServices/result25.pkl','rb'))\n",
    "start_index = pd.Timestamp(pd.datetime.now().strftime(\"%Y-%m-%d %X\"))\n",
    "end_index = start_index + pd.Timedelta(hours=1)\n",
    "forecastloaded = loadedResult25.predict(start=start_index, end= end_index)\n",
    "print(forecastloaded)"
   ]
  }
 ],
 "metadata": {
  "kernelspec": {
   "display_name": "Python 3",
   "language": "python",
   "name": "python3"
  },
  "language_info": {
   "codemirror_mode": {
    "name": "ipython",
    "version": 3
   },
   "file_extension": ".py",
   "mimetype": "text/x-python",
   "name": "python",
   "nbconvert_exporter": "python",
   "pygments_lexer": "ipython3",
   "version": "3.8.5"
  }
 },
 "nbformat": 4,
 "nbformat_minor": 4
}
